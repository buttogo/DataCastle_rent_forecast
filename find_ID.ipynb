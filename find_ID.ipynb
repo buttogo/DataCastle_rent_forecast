{
 "cells": [
  {
   "cell_type": "code",
   "execution_count": 1,
   "metadata": {},
   "outputs": [],
   "source": [
    "import pandas as pd\n",
    "import numpy as np\n",
    "import matplotlib.pyplot as plt\n",
    "\n",
    "train_data=pd.read_csv('train.csv').fillna(-999)\n",
    "test_data=pd.read_csv('test_noLabel.csv').fillna(-999)"
   ]
  },
  {
   "cell_type": "code",
   "execution_count": 2,
   "metadata": {},
   "outputs": [],
   "source": [
    "def objectal(df):\n",
    "    for col in df.columns:\n",
    "        if col!='Label':\n",
    "            df[col]   = df[col].astype(str)\n",
    "    return df\n",
    "train_data=objectal(train_data)\n",
    "test_data=objectal(test_data)\n",
    "\n",
    "mon1_train_df=train_data[train_data.loc[:,'时间']=='1'].drop(['时间','ID','小区房屋出租数量'],axis=1).drop_duplicates()\n",
    "mon2_train_df=train_data[train_data.loc[:,'时间']=='2'].drop(['时间','ID','小区房屋出租数量'],axis=1).drop_duplicates()\n",
    "mon3_train_df=train_data[train_data.loc[:,'时间']=='3'].drop(['时间','ID','小区房屋出租数量'],axis=1).drop_duplicates()\n",
    "\n",
    "common_cols=list(mon1_train_df.columns)\n",
    "common_cols.remove('Label')\n",
    "\n",
    "# 按月计算出房屋的均租金\n",
    "mon1_train_df=mon1_train_df.groupby(common_cols,as_index=False).mean()\n",
    "mon2_train_df=mon2_train_df.groupby(common_cols,as_index=False).mean()\n",
    "mon3_train_df=mon3_train_df.groupby(common_cols,as_index=False).mean()\n",
    "\n",
    "# 二月并一月，缺失值由一月数据来填充\n",
    "recent_mean_rental=mon2_train_df.merge(mon1_train_df,how='outer',on=common_cols).fillna(method='bfill',axis=1)\n",
    "recent_mean_rental=recent_mean_rental.drop(['Label_y'],axis=1).rename(columns={'Label_x':'Label'})\n",
    "# 三月并二月，缺失值由二月(一月)来填充\n",
    "recent_mean_rental=mon3_train_df.merge(recent_mean_rental,how='outer',on=common_cols).fillna(method='bfill',axis=1)\n",
    "recent_mean_rental=recent_mean_rental.drop(['Label_y'],axis=1).rename(columns={'Label_x':'Label'})\n",
    "\n",
    "statistic_pred=test_data.merge(recent_mean_rental,how='left',on=common_cols)\n",
    "statistic_pred.loc[:,['ID','Label']].to_csv('statistic_pred.csv',index=False)"
   ]
  },
  {
   "cell_type": "code",
   "execution_count": 3,
   "metadata": {},
   "outputs": [
    {
     "data": {
      "text/plain": [
       "5.602716     2364\n",
       "4.923599     1719\n",
       "7.300509     1702\n",
       "6.281834     1498\n",
       "8.998302     1376\n",
       "             ... \n",
       "15.223543       1\n",
       "4.837012        1\n",
       "9.677419        1\n",
       "7.526882        1\n",
       "22.920204       1\n",
       "Name: Label, Length: 628, dtype: int64"
      ]
     },
     "execution_count": 3,
     "metadata": {},
     "output_type": "execute_result"
    }
   ],
   "source": [
    "statistic_pred['Label'].value_counts()"
   ]
  },
  {
   "cell_type": "code",
   "execution_count": null,
   "metadata": {},
   "outputs": [],
   "source": []
  }
 ],
 "metadata": {
  "kernelspec": {
   "display_name": "Python 3",
   "language": "python",
   "name": "python3"
  },
  "language_info": {
   "codemirror_mode": {
    "name": "ipython",
    "version": 3
   },
   "file_extension": ".py",
   "mimetype": "text/x-python",
   "name": "python",
   "nbconvert_exporter": "python",
   "pygments_lexer": "ipython3",
   "version": "3.8.5"
  }
 },
 "nbformat": 4,
 "nbformat_minor": 2
}
